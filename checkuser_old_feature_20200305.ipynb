{
 "cells": [
  {
   "cell_type": "markdown",
   "metadata": {},
   "source": [
    "# Purpose:\n",
    "Gather data from existing CheckUser logs.[T245226](https://phabricator.wikimedia.org/T245226)\n",
    "\n",
    "\n",
    "# Data timeframe:\n",
    "2019.1.1~2020.3.5 on enwiki\n",
    "\n",
    "\n",
    "# Summary:\n",
    "- How often did someone search for IP ranges versus just IPs?<br >\n",
    "\n",
    "| checkip_type|\tnum_checks|\n",
    "| ---------------| -------------|\n",
    "| check_IPonly\t| 23926|\n",
    "| check_IPrange| 21517|\n",
    "\n",
    "- How often did the XFF feature get used?<br >\n",
    "__12 out of 45443__\n",
    "\n",
    "- How often did usernames get looked up versus IPs?<br >\n",
    "\n",
    "| check_type\t|num_checks|\n",
    "| --------------| -----------|\n",
    "| check_ip\t|45450|\n",
    "| check_user|27366|\n",
    "\n",
    "- How many lookups per case? <br >\n",
    "__Current cu_log did not log event on a case base. I estimate the user intention based on date. Assuming for a regular user, all lookups on the same day are for one intention.__ \n",
    "__After exclude some heavy users, a common user loops up 2.89 times intention in average.__\n",
    "\n"
   ]
  },
  {
   "cell_type": "code",
   "execution_count": 9,
   "metadata": {},
   "outputs": [],
   "source": [
    "import pandas as pd\n",
    "from wmfdata import mariadb"
   ]
  },
  {
   "cell_type": "code",
   "execution_count": 10,
   "metadata": {},
   "outputs": [
    {
     "data": {
      "text/html": [
       "\n",
       "    <form action=\"javascript:code_toggle()\">\n",
       "        <input id=\"code_toggle\" type=\"submit\" value=\"Hide code\" style=\"font-size: 1.4em\">\n",
       "    </form>\n",
       "    \n",
       "    <script>\n",
       "    code_shown = true; \n",
       "\n",
       "    function code_toggle() {\n",
       "        if (code_shown) {\n",
       "            $('div.input, div.output_prompt').hide();\n",
       "            $('#code_toggle').attr(\"value\", \"Show code\");\n",
       "\n",
       "        } else {\n",
       "            $('div.input, div.output_pr').show();\n",
       "            $('#code_toggle').attr(\"value\", \"Hide code\");\n",
       "        }\n",
       "\n",
       "        code_shown = !code_shown\n",
       "    }\n",
       "\n",
       "    $(document).ready(code_toggle);\n",
       "    </script>\n",
       "    "
      ],
      "text/plain": [
       "<IPython.core.display.HTML object>"
      ]
     },
     "metadata": {},
     "output_type": "display_data"
    }
   ],
   "source": [
    "import wmfdata\n",
    "wmfdata.utils.insert_code_toggle()"
   ]
  },
  {
   "cell_type": "code",
   "execution_count": 3,
   "metadata": {},
   "outputs": [],
   "source": [
    "#old user behavior is less strict with inputing check user reason, so focus the data since 2019.\n",
    "checkuser_count_query = '''\n",
    "SELECT cul_reason, substr(cul_timestamp, 1,8) AS date, COUNT(cul_id) AS checkuser_count \n",
    "FROM cu_log \n",
    "WHERE substr(cul_timestamp,1,4) >= 2019 \n",
    "GROUP BY cul_reason, date  \n",
    "ORDER BY checkuser_count DESC,date \n",
    "\n",
    "'''"
   ]
  },
  {
   "cell_type": "code",
   "execution_count": 4,
   "metadata": {},
   "outputs": [],
   "source": [
    "df_checkuser_2019_enwiki=mariadb.run(checkuser_count_query, 'enwiki')"
   ]
  },
  {
   "cell_type": "code",
   "execution_count": 5,
   "metadata": {},
   "outputs": [
    {
     "data": {
      "text/html": [
       "<div>\n",
       "<style scoped>\n",
       "    .dataframe tbody tr th:only-of-type {\n",
       "        vertical-align: middle;\n",
       "    }\n",
       "\n",
       "    .dataframe tbody tr th {\n",
       "        vertical-align: top;\n",
       "    }\n",
       "\n",
       "    .dataframe thead th {\n",
       "        text-align: right;\n",
       "    }\n",
       "</style>\n",
       "<table border=\"1\" class=\"dataframe\">\n",
       "  <thead>\n",
       "    <tr style=\"text-align: right;\">\n",
       "      <th></th>\n",
       "      <th>cul_reason</th>\n",
       "      <th>date</th>\n",
       "      <th>checkuser_count</th>\n",
       "    </tr>\n",
       "  </thead>\n",
       "  <tbody>\n",
       "    <tr>\n",
       "      <th>0</th>\n",
       "      <td>suspicious new user</td>\n",
       "      <td>20190328</td>\n",
       "      <td>71</td>\n",
       "    </tr>\n",
       "    <tr>\n",
       "      <th>1</th>\n",
       "      <td>spambot</td>\n",
       "      <td>20200213</td>\n",
       "      <td>56</td>\n",
       "    </tr>\n",
       "    <tr>\n",
       "      <th>2</th>\n",
       "      <td>spambot</td>\n",
       "      <td>20190217</td>\n",
       "      <td>47</td>\n",
       "    </tr>\n",
       "    <tr>\n",
       "      <th>3</th>\n",
       "      <td>suspicious new user</td>\n",
       "      <td>20190823</td>\n",
       "      <td>43</td>\n",
       "    </tr>\n",
       "    <tr>\n",
       "      <th>4</th>\n",
       "      <td>Chinese spambot</td>\n",
       "      <td>20190328</td>\n",
       "      <td>36</td>\n",
       "    </tr>\n",
       "    <tr>\n",
       "      <th>5</th>\n",
       "      <td>suspicious newish user, CSD, UPE</td>\n",
       "      <td>20200120</td>\n",
       "      <td>36</td>\n",
       "    </tr>\n",
       "    <tr>\n",
       "      <th>6</th>\n",
       "      <td>suspicious newish user</td>\n",
       "      <td>20191128</td>\n",
       "      <td>35</td>\n",
       "    </tr>\n",
       "    <tr>\n",
       "      <th>7</th>\n",
       "      <td>suspicious new user</td>\n",
       "      <td>20190902</td>\n",
       "      <td>34</td>\n",
       "    </tr>\n",
       "    <tr>\n",
       "      <th>8</th>\n",
       "      <td>sock check</td>\n",
       "      <td>20190102</td>\n",
       "      <td>33</td>\n",
       "    </tr>\n",
       "    <tr>\n",
       "      <th>9</th>\n",
       "      <td>spambot</td>\n",
       "      <td>20190414</td>\n",
       "      <td>33</td>\n",
       "    </tr>\n",
       "  </tbody>\n",
       "</table>\n",
       "</div>"
      ],
      "text/plain": [
       "                         cul_reason      date  checkuser_count\n",
       "0               suspicious new user  20190328               71\n",
       "1                           spambot  20200213               56\n",
       "2                           spambot  20190217               47\n",
       "3               suspicious new user  20190823               43\n",
       "4                   Chinese spambot  20190328               36\n",
       "5  suspicious newish user, CSD, UPE  20200120               36\n",
       "6            suspicious newish user  20191128               35\n",
       "7               suspicious new user  20190902               34\n",
       "8                        sock check  20190102               33\n",
       "9                           spambot  20190414               33"
      ]
     },
     "execution_count": 5,
     "metadata": {},
     "output_type": "execute_result"
    }
   ],
   "source": [
    "df_checkuser_2019_enwiki.head(10)"
   ]
  },
  {
   "cell_type": "code",
   "execution_count": 6,
   "metadata": {},
   "outputs": [
    {
     "data": {
      "text/html": [
       "<div>\n",
       "<style scoped>\n",
       "    .dataframe tbody tr th:only-of-type {\n",
       "        vertical-align: middle;\n",
       "    }\n",
       "\n",
       "    .dataframe tbody tr th {\n",
       "        vertical-align: top;\n",
       "    }\n",
       "\n",
       "    .dataframe thead th {\n",
       "        text-align: right;\n",
       "    }\n",
       "</style>\n",
       "<table border=\"1\" class=\"dataframe\">\n",
       "  <thead>\n",
       "    <tr style=\"text-align: right;\">\n",
       "      <th></th>\n",
       "      <th>checkuser_count</th>\n",
       "    </tr>\n",
       "  </thead>\n",
       "  <tbody>\n",
       "    <tr>\n",
       "      <th>count</th>\n",
       "      <td>24464.000000</td>\n",
       "    </tr>\n",
       "    <tr>\n",
       "      <th>mean</th>\n",
       "      <td>2.957448</td>\n",
       "    </tr>\n",
       "    <tr>\n",
       "      <th>std</th>\n",
       "      <td>2.751807</td>\n",
       "    </tr>\n",
       "    <tr>\n",
       "      <th>min</th>\n",
       "      <td>1.000000</td>\n",
       "    </tr>\n",
       "    <tr>\n",
       "      <th>25%</th>\n",
       "      <td>1.000000</td>\n",
       "    </tr>\n",
       "    <tr>\n",
       "      <th>50%</th>\n",
       "      <td>2.000000</td>\n",
       "    </tr>\n",
       "    <tr>\n",
       "      <th>75%</th>\n",
       "      <td>3.000000</td>\n",
       "    </tr>\n",
       "    <tr>\n",
       "      <th>max</th>\n",
       "      <td>71.000000</td>\n",
       "    </tr>\n",
       "  </tbody>\n",
       "</table>\n",
       "</div>"
      ],
      "text/plain": [
       "       checkuser_count\n",
       "count     24464.000000\n",
       "mean          2.957448\n",
       "std           2.751807\n",
       "min           1.000000\n",
       "25%           1.000000\n",
       "50%           2.000000\n",
       "75%           3.000000\n",
       "max          71.000000"
      ]
     },
     "execution_count": 6,
     "metadata": {},
     "output_type": "execute_result"
    }
   ],
   "source": [
    "df_checkuser_2019_enwiki.describe()"
   ]
  },
  {
   "cell_type": "code",
   "execution_count": 7,
   "metadata": {},
   "outputs": [
    {
     "data": {
      "image/png": "[encoded data removed]",
      "text/plain": [
       "<Figure size 1296x432 with 1 Axes>"
      ]
     },
     "metadata": {},
     "output_type": "display_data"
    }
   ],
   "source": [
    "%matplotlib inline\n",
    "import matplotlib.pyplot as plt\n",
    "plt.figure(figsize=(18, 6))\n",
    "\n",
    "plt.hist(df_checkuser_2019_enwiki['checkuser_count'], bins=50, histtype='bar')\n",
    "plt.title('Distribution of checkuser usage count',fontweight=\"bold\",fontsize = 16)\n",
    "plt.ylabel('# of Cases',fontsize = 16)\n",
    "plt.xlabel('Checkuser Usage Count',fontsize = 16)\n",
    "plt.show()"
   ]
  },
  {
   "cell_type": "markdown",
   "metadata": {},
   "source": [
    "Look at the heavy users who checked users more than 20 times a day, they tend to belong to below user groups: bot, checkuser, sysops, abusefilter, admin, etc. In order to get the sense of the common users behavior, I cut off the right tail and exclude \"checkuser usage count > 20\" when calculate the average of usage per intention."
   ]
  },
  {
   "cell_type": "code",
   "execution_count": 8,
   "metadata": {},
   "outputs": [
    {
     "data": {
      "text/html": [
       "<div>\n",
       "<style scoped>\n",
       "    .dataframe tbody tr th:only-of-type {\n",
       "        vertical-align: middle;\n",
       "    }\n",
       "\n",
       "    .dataframe tbody tr th {\n",
       "        vertical-align: top;\n",
       "    }\n",
       "\n",
       "    .dataframe thead th {\n",
       "        text-align: right;\n",
       "    }\n",
       "</style>\n",
       "<table border=\"1\" class=\"dataframe\">\n",
       "  <thead>\n",
       "    <tr style=\"text-align: right;\">\n",
       "      <th></th>\n",
       "      <th>checkuser_count</th>\n",
       "    </tr>\n",
       "  </thead>\n",
       "  <tbody>\n",
       "    <tr>\n",
       "      <th>count</th>\n",
       "      <td>24399.000000</td>\n",
       "    </tr>\n",
       "    <tr>\n",
       "      <th>mean</th>\n",
       "      <td>2.892086</td>\n",
       "    </tr>\n",
       "    <tr>\n",
       "      <th>std</th>\n",
       "      <td>2.408051</td>\n",
       "    </tr>\n",
       "    <tr>\n",
       "      <th>min</th>\n",
       "      <td>1.000000</td>\n",
       "    </tr>\n",
       "    <tr>\n",
       "      <th>25%</th>\n",
       "      <td>1.000000</td>\n",
       "    </tr>\n",
       "    <tr>\n",
       "      <th>50%</th>\n",
       "      <td>2.000000</td>\n",
       "    </tr>\n",
       "    <tr>\n",
       "      <th>75%</th>\n",
       "      <td>3.000000</td>\n",
       "    </tr>\n",
       "    <tr>\n",
       "      <th>max</th>\n",
       "      <td>20.000000</td>\n",
       "    </tr>\n",
       "  </tbody>\n",
       "</table>\n",
       "</div>"
      ],
      "text/plain": [
       "       checkuser_count\n",
       "count     24399.000000\n",
       "mean          2.892086\n",
       "std           2.408051\n",
       "min           1.000000\n",
       "25%           1.000000\n",
       "50%           2.000000\n",
       "75%           3.000000\n",
       "max          20.000000"
      ]
     },
     "execution_count": 8,
     "metadata": {},
     "output_type": "execute_result"
    }
   ],
   "source": [
    "df_checkuser_2019_enwiki[df_checkuser_2019_enwiki['checkuser_count']<=20].describe()"
   ]
  },
  {
   "cell_type": "markdown",
   "metadata": {},
   "source": [
    "__For common users, the estimated average checks per intention is 2.89__"
   ]
  },
  {
   "cell_type": "markdown",
   "metadata": {},
   "source": [
    "### How often did someone search for IP ranges versus just IPs?"
   ]
  },
  {
   "cell_type": "markdown",
   "metadata": {},
   "source": [
    "There are 6 types of checkuser in cu_log table\n",
    "\n",
    "\n",
    "| cul_type    |\n",
    "| ------------|\n",
    "| ipedits     |\n",
    "| ipedits-xff |\n",
    "| ipusers     |\n",
    "| ipusers-xff |\n",
    "| useredits   |\n",
    "| userips     |\n",
    "\n",
    "All searching IP events includes 4 types: ipedits,ipedits-xff,ipusers,ipusers-xff."
   ]
  },
  {
   "cell_type": "code",
   "execution_count": 15,
   "metadata": {},
   "outputs": [],
   "source": [
    "checkip_count_query = '''\n",
    "SELECT tmp.checkip_type, COUNT(1) AS num_checks \n",
    "FROM (\n",
    "SELECT cul_id, \n",
    "    (CASE WHEN cul_range_start='' THEN 'check_IP' ELSE 'check_IPrange' END) AS checkip_type   \n",
    "    FROM cu_log \n",
    "    WHERE  cul_type IN ( 'ipusers-xff','ipusers','ipedits-xff','ipedits') \n",
    "    AND  substr(cul_timestamp,1,4) >= 2019 ) AS tmp \n",
    "GROUP BY tmp.checkip_type;\n",
    "'''"
   ]
  },
  {
   "cell_type": "code",
   "execution_count": 21,
   "metadata": {},
   "outputs": [],
   "source": [
    "df_checkip_vs_iprange_2019_enwiki=mariadb.run(checkip_count_query, 'enwiki')"
   ]
  },
  {
   "cell_type": "code",
   "execution_count": 22,
   "metadata": {},
   "outputs": [
    {
     "data": {
      "text/html": [
       "<div>\n",
       "<style scoped>\n",
       "    .dataframe tbody tr th:only-of-type {\n",
       "        vertical-align: middle;\n",
       "    }\n",
       "\n",
       "    .dataframe tbody tr th {\n",
       "        vertical-align: top;\n",
       "    }\n",
       "\n",
       "    .dataframe thead th {\n",
       "        text-align: right;\n",
       "    }\n",
       "</style>\n",
       "<table border=\"1\" class=\"dataframe\">\n",
       "  <thead>\n",
       "    <tr style=\"text-align: right;\">\n",
       "      <th></th>\n",
       "      <th>checkip_type</th>\n",
       "      <th>num_checks</th>\n",
       "    </tr>\n",
       "  </thead>\n",
       "  <tbody>\n",
       "    <tr>\n",
       "      <th>0</th>\n",
       "      <td>check_IP</td>\n",
       "      <td>23926</td>\n",
       "    </tr>\n",
       "    <tr>\n",
       "      <th>1</th>\n",
       "      <td>check_IPrange</td>\n",
       "      <td>21517</td>\n",
       "    </tr>\n",
       "  </tbody>\n",
       "</table>\n",
       "</div>"
      ],
      "text/plain": [
       "    checkip_type  num_checks\n",
       "0       check_IP       23926\n",
       "1  check_IPrange       21517"
      ]
     },
     "execution_count": 22,
     "metadata": {},
     "output_type": "execute_result"
    }
   ],
   "source": [
    "df_checkip_vs_iprange_2019_enwiki"
   ]
  },
  {
   "cell_type": "markdown",
   "metadata": {},
   "source": [
    "### How often did the XFF feature get used?"
   ]
  },
  {
   "cell_type": "code",
   "execution_count": null,
   "metadata": {},
   "outputs": [],
   "source": [
    "checkip_all_count_query = '''\n",
    "\n",
    "SELECT COUNT(1) AS num_all_check_ips\n",
    "    FROM cu_log \n",
    "    WHERE  cul_type IN ( 'ipusers-xff','ipusers','ipedits-xff','ipedits') \n",
    "    AND  substr(cul_timestamp,1,4) >= 2019  \n",
    "\n",
    "'''"
   ]
  },
  {
   "cell_type": "code",
   "execution_count": null,
   "metadata": {},
   "outputs": [],
   "source": [
    "all_checkip_2019_enwiki=mariadb.run(checkip_all_count_query, 'enwiki')"
   ]
  },
  {
   "cell_type": "code",
   "execution_count": null,
   "metadata": {},
   "outputs": [],
   "source": [
    "all_checkip_2019_enwiki"
   ]
  },
  {
   "cell_type": "code",
   "execution_count": 34,
   "metadata": {},
   "outputs": [],
   "source": [
    "check_xff_count_query = '''\n",
    "SELECT COUNT(1) AS num_check_xff\n",
    "    FROM cu_log \n",
    "    WHERE  cul_type IN ('ipusers-xff', 'ipedits-xff') \n",
    "    AND  substr(cul_timestamp,1,4) >= 2019  \n",
    "'''"
   ]
  },
  {
   "cell_type": "code",
   "execution_count": 35,
   "metadata": {},
   "outputs": [],
   "source": [
    "df_check_xff_enwiki=mariadb.run(check_xff_count_query, 'enwiki')"
   ]
  },
  {
   "cell_type": "code",
   "execution_count": 36,
   "metadata": {},
   "outputs": [
    {
     "data": {
      "text/html": [
       "<div>\n",
       "<style scoped>\n",
       "    .dataframe tbody tr th:only-of-type {\n",
       "        vertical-align: middle;\n",
       "    }\n",
       "\n",
       "    .dataframe tbody tr th {\n",
       "        vertical-align: top;\n",
       "    }\n",
       "\n",
       "    .dataframe thead th {\n",
       "        text-align: right;\n",
       "    }\n",
       "</style>\n",
       "<table border=\"1\" class=\"dataframe\">\n",
       "  <thead>\n",
       "    <tr style=\"text-align: right;\">\n",
       "      <th></th>\n",
       "      <th>num_check_xff</th>\n",
       "    </tr>\n",
       "  </thead>\n",
       "  <tbody>\n",
       "    <tr>\n",
       "      <th>0</th>\n",
       "      <td>12</td>\n",
       "    </tr>\n",
       "  </tbody>\n",
       "</table>\n",
       "</div>"
      ],
      "text/plain": [
       "   num_check_xff\n",
       "0             12"
      ]
     },
     "execution_count": 36,
     "metadata": {},
     "output_type": "execute_result"
    }
   ],
   "source": [
    "df_check_xff_enwiki"
   ]
  },
  {
   "cell_type": "markdown",
   "metadata": {},
   "source": [
    "### How often did usernames get looked up versus IPs?"
   ]
  },
  {
   "cell_type": "code",
   "execution_count": 47,
   "metadata": {},
   "outputs": [],
   "source": [
    "check_ip_vs_user_query = '''\n",
    "SELECT tmp.check_type, COUNT(1) AS num_checks \n",
    "FROM (\n",
    "SELECT cul_id, \n",
    "    (CASE WHEN cul_type IN ( 'ipusers-xff','ipusers','ipedits-xff','ipedits')  THEN 'check_ip'  WHEN cul_type IN ('useredits','userips')  THEN 'check_user' ELSE 'none' END) AS check_type   \n",
    "    FROM cu_log \n",
    "    WHERE   substr(cul_timestamp,1,4) >= 2019 ) AS tmp \n",
    "GROUP BY tmp.check_type;\n",
    "'''"
   ]
  },
  {
   "cell_type": "code",
   "execution_count": 48,
   "metadata": {},
   "outputs": [],
   "source": [
    "df_check_ip_vs_user_enwiki=mariadb.run(check_ip_vs_user_query, 'enwiki')"
   ]
  },
  {
   "cell_type": "code",
   "execution_count": 49,
   "metadata": {},
   "outputs": [
    {
     "data": {
      "text/html": [
       "<div>\n",
       "<style scoped>\n",
       "    .dataframe tbody tr th:only-of-type {\n",
       "        vertical-align: middle;\n",
       "    }\n",
       "\n",
       "    .dataframe tbody tr th {\n",
       "        vertical-align: top;\n",
       "    }\n",
       "\n",
       "    .dataframe thead th {\n",
       "        text-align: right;\n",
       "    }\n",
       "</style>\n",
       "<table border=\"1\" class=\"dataframe\">\n",
       "  <thead>\n",
       "    <tr style=\"text-align: right;\">\n",
       "      <th></th>\n",
       "      <th>check_type</th>\n",
       "      <th>num_checks</th>\n",
       "    </tr>\n",
       "  </thead>\n",
       "  <tbody>\n",
       "    <tr>\n",
       "      <th>0</th>\n",
       "      <td>check_ip</td>\n",
       "      <td>45450</td>\n",
       "    </tr>\n",
       "    <tr>\n",
       "      <th>1</th>\n",
       "      <td>check_user</td>\n",
       "      <td>27366</td>\n",
       "    </tr>\n",
       "  </tbody>\n",
       "</table>\n",
       "</div>"
      ],
      "text/plain": [
       "   check_type  num_checks\n",
       "0    check_ip       45450\n",
       "1  check_user       27366"
      ]
     },
     "execution_count": 49,
     "metadata": {},
     "output_type": "execute_result"
    }
   ],
   "source": [
    "df_check_ip_vs_user_enwiki"
   ]
  },
  {
   "cell_type": "code",
   "execution_count": null,
   "metadata": {},
   "outputs": [],
   "source": []
  }
 ],
 "metadata": {
  "kernelspec": {
   "display_name": "Python 3",
   "language": "python",
   "name": "python3"
  },
  "language_info": {
   "codemirror_mode": {
    "name": "ipython",
    "version": 3
   },
   "file_extension": ".py",
   "mimetype": "text/x-python",
   "name": "python",
   "nbconvert_exporter": "python",
   "pygments_lexer": "ipython3",
   "version": "3.5.3"
  }
 },
 "nbformat": 4,
 "nbformat_minor": 2
}
